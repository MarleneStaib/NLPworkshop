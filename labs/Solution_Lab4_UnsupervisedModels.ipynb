{
 "cells": [
  {
   "cell_type": "markdown",
   "metadata": {},
   "source": [
    "# Lab 4: Unsupervised Learning\n",
    "\n",
    "In this lab, we'll be clustering our participants using unsupervised learning, to discover the sturcture in our dataset.\n",
    "\n",
    "First, let's start with some imports, as usual:"
   ]
  },
  {
   "cell_type": "code",
   "execution_count": 1,
   "metadata": {},
   "outputs": [
    {
     "name": "stderr",
     "output_type": "stream",
     "text": [
      "/home/marlene/anaconda3/envs/nlp_workshop/lib/python3.7/site-packages/sklearn/utils/__init__.py:4: DeprecationWarning: Using or importing the ABCs from 'collections' instead of from 'collections.abc' is deprecated, and in 3.8 it will stop working\n",
      "  from collections import Sequence\n",
      "/home/marlene/anaconda3/envs/nlp_workshop/lib/python3.7/site-packages/sklearn/cross_validation.py:41: DeprecationWarning: This module was deprecated in version 0.18 in favor of the model_selection module into which all the refactored classes and functions are moved. Also note that the interface of the new CV iterators are different from that of this module. This module will be removed in 0.20.\n",
      "  \"This module will be removed in 0.20.\", DeprecationWarning)\n"
     ]
    }
   ],
   "source": [
    "import os, io\n",
    "import numpy as np\n",
    "import pandas as pd\n",
    "import matplotlib.pyplot as plt\n",
    "import seaborn as sns\n",
    "from sklearn.model_selection import train_test_split\n",
    "from sklearn.metrics import accuracy_score\n",
    "from sklearn.cross_validation import KFold\n",
    "from sklearn.cluster import KMeans\n",
    "from sklearn.metrics import adjusted_rand_score\n",
    "from sklearn.mixture import GaussianMixture\n",
    "from sklearn.decomposition import PCA\n",
    "from sklearn.tree import DecisionTreeClassifier\n",
    "from nltk.corpus import stopwords"
   ]
  },
  {
   "cell_type": "markdown",
   "metadata": {},
   "source": [
    "## 1. Preparing and exploring the Data\n",
    "\n",
    "This time, we'll start with the depression dataset from our trinagles data. Load ```'triangles_depression.csv'``` from the ```../data``` directory as before. Use ```.shape``` and ```.head()``` to see if the data looks alright, and to check the number of features and participants:"
   ]
  },
  {
   "cell_type": "code",
   "execution_count": 2,
   "metadata": {},
   "outputs": [
    {
     "data": {
      "text/html": [
       "<div>\n",
       "<style scoped>\n",
       "    .dataframe tbody tr th:only-of-type {\n",
       "        vertical-align: middle;\n",
       "    }\n",
       "\n",
       "    .dataframe tbody tr th {\n",
       "        vertical-align: top;\n",
       "    }\n",
       "\n",
       "    .dataframe thead th {\n",
       "        text-align: right;\n",
       "    }\n",
       "</style>\n",
       "<table border=\"1\" class=\"dataframe\">\n",
       "  <thead>\n",
       "    <tr style=\"text-align: right;\">\n",
       "      <th></th>\n",
       "      <th>det</th>\n",
       "      <th>er</th>\n",
       "      <th>simpelthen</th>\n",
       "      <th>at</th>\n",
       "      <th>den</th>\n",
       "      <th>lille</th>\n",
       "      <th>laver</th>\n",
       "      <th>noget</th>\n",
       "      <th>og</th>\n",
       "      <th>s</th>\n",
       "      <th>...</th>\n",
       "      <th>spids</th>\n",
       "      <th>omsorg</th>\n",
       "      <th>blokere</th>\n",
       "      <th>billedet</th>\n",
       "      <th>sort</th>\n",
       "      <th>hvirvler</th>\n",
       "      <th>foroven</th>\n",
       "      <th>glider</th>\n",
       "      <th>oppe</th>\n",
       "      <th>label</th>\n",
       "    </tr>\n",
       "  </thead>\n",
       "  <tbody>\n",
       "    <tr>\n",
       "      <th>0</th>\n",
       "      <td>4.0</td>\n",
       "      <td>2.0</td>\n",
       "      <td>0.0</td>\n",
       "      <td>2.0</td>\n",
       "      <td>18.0</td>\n",
       "      <td>0.0</td>\n",
       "      <td>0.0</td>\n",
       "      <td>1.0</td>\n",
       "      <td>4.0</td>\n",
       "      <td>1.0</td>\n",
       "      <td>...</td>\n",
       "      <td>0.0</td>\n",
       "      <td>0.0</td>\n",
       "      <td>0.0</td>\n",
       "      <td>0.0</td>\n",
       "      <td>0.0</td>\n",
       "      <td>0.0</td>\n",
       "      <td>0.0</td>\n",
       "      <td>0.0</td>\n",
       "      <td>0.0</td>\n",
       "      <td>Controls</td>\n",
       "    </tr>\n",
       "    <tr>\n",
       "      <th>1</th>\n",
       "      <td>4.0</td>\n",
       "      <td>2.0</td>\n",
       "      <td>0.0</td>\n",
       "      <td>5.0</td>\n",
       "      <td>6.0</td>\n",
       "      <td>0.0</td>\n",
       "      <td>0.0</td>\n",
       "      <td>5.0</td>\n",
       "      <td>6.0</td>\n",
       "      <td>5.0</td>\n",
       "      <td>...</td>\n",
       "      <td>0.0</td>\n",
       "      <td>0.0</td>\n",
       "      <td>0.0</td>\n",
       "      <td>0.0</td>\n",
       "      <td>0.0</td>\n",
       "      <td>0.0</td>\n",
       "      <td>0.0</td>\n",
       "      <td>0.0</td>\n",
       "      <td>0.0</td>\n",
       "      <td>Controls</td>\n",
       "    </tr>\n",
       "    <tr>\n",
       "      <th>2</th>\n",
       "      <td>12.0</td>\n",
       "      <td>10.0</td>\n",
       "      <td>0.0</td>\n",
       "      <td>9.0</td>\n",
       "      <td>12.0</td>\n",
       "      <td>6.0</td>\n",
       "      <td>0.0</td>\n",
       "      <td>6.0</td>\n",
       "      <td>16.0</td>\n",
       "      <td>9.0</td>\n",
       "      <td>...</td>\n",
       "      <td>0.0</td>\n",
       "      <td>0.0</td>\n",
       "      <td>0.0</td>\n",
       "      <td>0.0</td>\n",
       "      <td>0.0</td>\n",
       "      <td>0.0</td>\n",
       "      <td>0.0</td>\n",
       "      <td>0.0</td>\n",
       "      <td>0.0</td>\n",
       "      <td>Controls</td>\n",
       "    </tr>\n",
       "    <tr>\n",
       "      <th>3</th>\n",
       "      <td>8.0</td>\n",
       "      <td>2.0</td>\n",
       "      <td>0.0</td>\n",
       "      <td>0.0</td>\n",
       "      <td>3.0</td>\n",
       "      <td>1.0</td>\n",
       "      <td>0.0</td>\n",
       "      <td>3.0</td>\n",
       "      <td>8.0</td>\n",
       "      <td>4.0</td>\n",
       "      <td>...</td>\n",
       "      <td>0.0</td>\n",
       "      <td>0.0</td>\n",
       "      <td>0.0</td>\n",
       "      <td>0.0</td>\n",
       "      <td>0.0</td>\n",
       "      <td>0.0</td>\n",
       "      <td>0.0</td>\n",
       "      <td>0.0</td>\n",
       "      <td>0.0</td>\n",
       "      <td>Controls</td>\n",
       "    </tr>\n",
       "    <tr>\n",
       "      <th>4</th>\n",
       "      <td>5.0</td>\n",
       "      <td>4.0</td>\n",
       "      <td>0.0</td>\n",
       "      <td>0.0</td>\n",
       "      <td>18.0</td>\n",
       "      <td>2.0</td>\n",
       "      <td>0.0</td>\n",
       "      <td>2.0</td>\n",
       "      <td>1.0</td>\n",
       "      <td>3.0</td>\n",
       "      <td>...</td>\n",
       "      <td>0.0</td>\n",
       "      <td>0.0</td>\n",
       "      <td>0.0</td>\n",
       "      <td>0.0</td>\n",
       "      <td>0.0</td>\n",
       "      <td>0.0</td>\n",
       "      <td>0.0</td>\n",
       "      <td>0.0</td>\n",
       "      <td>0.0</td>\n",
       "      <td>Controls</td>\n",
       "    </tr>\n",
       "  </tbody>\n",
       "</table>\n",
       "<p>5 rows × 870 columns</p>\n",
       "</div>"
      ],
      "text/plain": [
       "    det    er  simpelthen   at   den  lille  laver  noget    og    s  \\\n",
       "0   4.0   2.0         0.0  2.0  18.0    0.0    0.0    1.0   4.0  1.0   \n",
       "1   4.0   2.0         0.0  5.0   6.0    0.0    0.0    5.0   6.0  5.0   \n",
       "2  12.0  10.0         0.0  9.0  12.0    6.0    0.0    6.0  16.0  9.0   \n",
       "3   8.0   2.0         0.0  0.0   3.0    1.0    0.0    3.0   8.0  4.0   \n",
       "4   5.0   4.0         0.0  0.0  18.0    2.0    0.0    2.0   1.0  3.0   \n",
       "\n",
       "     ...     spids  omsorg  blokere  billedet  sort  hvirvler  foroven  \\\n",
       "0    ...       0.0     0.0      0.0       0.0   0.0       0.0      0.0   \n",
       "1    ...       0.0     0.0      0.0       0.0   0.0       0.0      0.0   \n",
       "2    ...       0.0     0.0      0.0       0.0   0.0       0.0      0.0   \n",
       "3    ...       0.0     0.0      0.0       0.0   0.0       0.0      0.0   \n",
       "4    ...       0.0     0.0      0.0       0.0   0.0       0.0      0.0   \n",
       "\n",
       "   glider  oppe     label  \n",
       "0     0.0   0.0  Controls  \n",
       "1     0.0   0.0  Controls  \n",
       "2     0.0   0.0  Controls  \n",
       "3     0.0   0.0  Controls  \n",
       "4     0.0   0.0  Controls  \n",
       "\n",
       "[5 rows x 870 columns]"
      ]
     },
     "execution_count": 2,
     "metadata": {},
     "output_type": "execute_result"
    }
   ],
   "source": [
    "#Code here.\n",
    "data_path_d = os.path.join(os.getcwd(), '../data', 'triangles_depression.csv')\n",
    "data_d = pd.read_csv(data_path_d,index_col=0)\n",
    "data_d.head()"
   ]
  },
  {
   "cell_type": "code",
   "execution_count": 3,
   "metadata": {},
   "outputs": [
    {
     "data": {
      "text/plain": [
       "(109, 870)"
      ]
     },
     "execution_count": 3,
     "metadata": {},
     "output_type": "execute_result"
    }
   ],
   "source": [
    "data_d.shape"
   ]
  },
  {
   "cell_type": "markdown",
   "metadata": {},
   "source": [
    "Let's see how our classes are distributed. Use <a href=\"https://seaborn.pydata.org/generated/seaborn.countplot.html\">```sns.countplot()```</a> to generate a bar plot showing the distribution of ```data_d['label']```. What groups are there? How many are in each group (*hint: use ```.value_counts()```*)?"
   ]
  },
  {
   "cell_type": "code",
   "execution_count": 4,
   "metadata": {},
   "outputs": [
    {
     "data": {
      "image/png": "[encoded data removed]",
      "text/plain": [
       "<Figure size 432x288 with 1 Axes>"
      ]
     },
     "metadata": {},
     "output_type": "display_data"
    }
   ],
   "source": [
    "# Code here.\n",
    "ax = sns.countplot(data_d['label'])\n",
    "ax.set_ylabel(\"number of participants\")\n",
    "ax.set_xlabel(\"\")\n",
    "plt.show()"
   ]
  },
  {
   "cell_type": "code",
   "execution_count": 5,
   "metadata": {},
   "outputs": [
    {
     "data": {
      "text/plain": [
       "Controls              42\n",
       "Patients_FirstTime    40\n",
       "Patients_Chronic      27\n",
       "Name: label, dtype: int64"
      ]
     },
     "execution_count": 5,
     "metadata": {},
     "output_type": "execute_result"
    }
   ],
   "source": [
    "data_d['label'].value_counts()"
   ]
  },
  {
   "cell_type": "markdown",
   "metadata": {},
   "source": [
    "*Take notes here:*"
   ]
  },
  {
   "cell_type": "markdown",
   "metadata": {},
   "source": [
    "Now, like in lab 2, split the data into a feature matrix ```X``` and a target label vector ```y```. Use the ```.shape``` attribute to check the dimensionality. Why do we not need to do any train-test splitting in this case?"
   ]
  },
  {
   "cell_type": "code",
   "execution_count": 6,
   "metadata": {},
   "outputs": [
    {
     "name": "stdout",
     "output_type": "stream",
     "text": [
      "(109, 869) (109,)\n"
     ]
    }
   ],
   "source": [
    "#Code here.\n",
    "X = data_d.drop(\"label\",axis=1).values\n",
    "y = data_d[\"label\"].values\n",
    "print(X.shape, y.shape)"
   ]
  },
  {
   "cell_type": "markdown",
   "metadata": {},
   "source": [
    "*Take notes here:*"
   ]
  },
  {
   "cell_type": "markdown",
   "metadata": {},
   "source": [
    "## 2. k-means clustering\n",
    "\n",
    "Now, we are ready to use the k-means clustering algorithm. Use the <a href=\"http://scikit-learn.org/stable/modules/generated/sklearn.cluster.KMeans.html\">```KMeans()```</a> class for this. Let's first assume we know that there are 3 distinct groups of people in our dataset - patients with a first episode of depression, chronically depressed patients and controls. So we set the number of clusters to 3. To make your experiment repeatable, set the ```random_state = 12``` (*think about: what would happen if you didn't set a random state?*). Make sure you only fit KMeans to X, not y."
   ]
  },
  {
   "cell_type": "code",
   "execution_count": 7,
   "metadata": {},
   "outputs": [
    {
     "data": {
      "text/plain": [
       "KMeans(algorithm='auto', copy_x=True, init='k-means++', max_iter=300,\n",
       "    n_clusters=3, n_init=10, n_jobs=1, precompute_distances='auto',\n",
       "    random_state=12, tol=0.0001, verbose=0)"
      ]
     },
     "execution_count": 7,
     "metadata": {},
     "output_type": "execute_result"
    }
   ],
   "source": [
    "#Code here.\n",
    "kmeans = KMeans(n_clusters=3, random_state=12)\n",
    "kmeans.fit(X)"
   ]
  },
  {
   "cell_type": "markdown",
   "metadata": {},
   "source": [
    "Now we want to evaluate how good our clustering is, by comparing the amount of overlap between the clusters found with unsupervised learning and our original labels. sklearns <a href=\"http://scikit-learn.org/0.17/modules/generated/sklearn.metrics.adjusted_rand_score.html\">```adjusted_rand_score()```</a> function will do this for us. Read its documentation and try to understand what it does; then call it on ```y``` and the ```.labels_``` attribute of your KMeans() object (that you fit above). How good is the result?"
   ]
  },
  {
   "cell_type": "code",
   "execution_count": 8,
   "metadata": {},
   "outputs": [
    {
     "name": "stdout",
     "output_type": "stream",
     "text": [
      "Adjusted rand score: -0.017090764618489223\n"
     ]
    }
   ],
   "source": [
    "#Code here.\n",
    "print(\"Adjusted rand score: {}\".format(adjusted_rand_score(y,kmeans.labels_)))"
   ]
  },
  {
   "cell_type": "markdown",
   "metadata": {},
   "source": [
    "*Take notes here:*"
   ]
  },
  {
   "cell_type": "markdown",
   "metadata": {},
   "source": [
    "Let's visualise what's going on. For each cluster, plot its distribution of classes (*hint: you may use ```sns.countplot``` again, or something else if you like*). What do you observe? How do classes and clusters match up? Can you think of any reasons for this?"
   ]
  },
  {
   "cell_type": "code",
   "execution_count": 9,
   "metadata": {},
   "outputs": [
    {
     "data": {
      "image/png": "[encoded data removed]",
      "text/plain": [
       "<Figure size 432x288 with 1 Axes>"
      ]
     },
     "metadata": {},
     "output_type": "display_data"
    }
   ],
   "source": [
    "#Code here.\n",
    "sns.countplot(kmeans.labels_, hue=y)\n",
    "plt.show()"
   ]
  },
  {
   "cell_type": "markdown",
   "metadata": {},
   "source": [
    "*Take notes here:*\n",
    "\n",
    "The distrubtion of classes is the same in all clusters - pretty random clustering!"
   ]
  },
  {
   "cell_type": "markdown",
   "metadata": {},
   "source": [
    "## 3. Feature Engineering\n",
    "\n",
    "Again like in lab 2, let's do some feature engineering. By now, you should have encountered some techniques to select features or reduce feature dimensionality. Try at least one thing to modify your features, in order to enhance the performance of the k-means clustering algorithm, e.g.:\n",
    "\n",
    "- remove stopwords\n",
    "- transform features into a lower-dimensional space, using PCA (see lab 3, XX?) [A]\n",
    "- select features with high information gain, using a decision tree (see lab 2, 9. - just do this on the full dataset for now, although this is technically cheating. Really, you should be using a held-out set to test the quality of the feature selection) [A]"
   ]
  },
  {
   "cell_type": "code",
   "execution_count": 10,
   "metadata": {},
   "outputs": [
    {
     "name": "stdout",
     "output_type": "stream",
     "text": [
      "Feature dimensionality after removing stopwords: (109, 798)\n",
      "Feature dimensionality after PCA: (109, 20)\n",
      "Feature dimensionality after feature selection: (109, 19)\n"
     ]
    }
   ],
   "source": [
    "#Code here.\n",
    "# removing stopwords\n",
    "def remove_stopwords(df):\n",
    "    for col in df.columns:\n",
    "        if col in stopwords.words('danish'):\n",
    "            df.drop(col,inplace=True,axis=1)\n",
    "    return df\n",
    "\n",
    "data_d = remove_stopwords(data_d)\n",
    "X_nostop = data_d.drop(\"label\",axis=1).values\n",
    "y_nostop = data_d[\"label\"].values\n",
    "print(\"Feature dimensionality after removing stopwords: {}\".format(X_nostop.shape))\n",
    "\n",
    "#PCA\n",
    "pca = PCA(n_components=20)\n",
    "X_pca = pca.fit_transform(X)\n",
    "print(\"Feature dimensionality after PCA: {}\".format(X_pca.shape))\n",
    "\n",
    "#feature selection\n",
    "dt = DecisionTreeClassifier()\n",
    "dt.fit(X,y)\n",
    "features = data_d.columns[np.where(dt.feature_importances_ != 0)]\n",
    "#create a new dataset from those features\n",
    "X_select = data_d[features].values\n",
    "print(\"Feature dimensionality after feature selection: {}\".format(X_select.shape))"
   ]
  },
  {
   "cell_type": "markdown",
   "metadata": {},
   "source": [
    "Again, fit KMeans (3 clusters, ```random_state = 12```) to this data and print the adjusted rand index for this clustering. Has the clustering improved? Take some notes and/or make a plot if you like, to help you udnerstand what's going on inside those functions/objects."
   ]
  },
  {
   "cell_type": "code",
   "execution_count": 11,
   "metadata": {},
   "outputs": [
    {
     "name": "stdout",
     "output_type": "stream",
     "text": [
      "Adjusted rand score without stopwords: -0.007419537062687425\n",
      "Adjusted rand score with PCA: -0.017090764618489223\n",
      "Adjusted rand score with selected features: -0.011509135280656866\n"
     ]
    }
   ],
   "source": [
    "#Code here.\n",
    "#run kmeans without stopwords\n",
    "kmeans = KMeans(n_clusters=3, random_state=12)\n",
    "kmeans.fit(X_nostop)\n",
    "print(\"Adjusted rand score without stopwords: {}\".format(adjusted_rand_score(y,kmeans.labels_)))\n",
    "\n",
    "#run kmeans with 20 dimensions\n",
    "kmeans = KMeans(n_clusters=3, random_state=12)\n",
    "kmeans.fit(X_pca)\n",
    "print(\"Adjusted rand score with PCA: {}\".format(adjusted_rand_score(y,kmeans.labels_)))\n",
    "\n",
    "#run kmeans with selected features\n",
    "kmeans = KMeans(n_clusters=3, random_state=12)\n",
    "kmeans.fit(X_select)\n",
    "print(\"Adjusted rand score with selected features: {}\".format(adjusted_rand_score(y,kmeans.labels_)))"
   ]
  },
  {
   "cell_type": "markdown",
   "metadata": {},
   "source": [
    "## 3. Finding k\n",
    "\n",
    "Let's assume now we don't already *know* how many classes there are, but we want to *discover* an optimal number of clusters. For example, we might be unsure about whether to consider first episode and chronic patients as part of the same group, or two different groups. We might also not know what kinds of different people we have at all, or we might want to find out if there are different stages of depression that manifest themselves more gradually - maybe there are 4, or 5 different subgroups?\n",
    "\n",
    "We'll try to discover an \"optimal\" number of k by looking at the scree plot (take \"optimal\" with a grain of salt here - this is a very data-driven approach that you should not take more seriously than your top-down knowledge on a specific subject!).\n",
    "\n",
    "Run the following steps:\n",
    "1. Create a range of values for k to explore, from 1 to 10\n",
    "2. Create an array to store the sum squared distances with each k (*hint: this is also called \"intertia\"*)\n",
    "3. Iterate over your k-values, fit a KMeans object to X, using each k (set the ```random_state = 0```), and store the intertia\n",
    "4. Make a plot (e.g., using ```sns.pointplot```) of k-values versus intertia\n",
    "5. Find the \"ellbow\"\n",
    "\n",
    "What do you observe? What is the \"optimal\" number of clusters? Does this match your expectation?"
   ]
  },
  {
   "cell_type": "code",
   "execution_count": 12,
   "metadata": {},
   "outputs": [
    {
     "data": {
      "image/png": "[encoded data removed]",
      "text/plain": [
       "<Figure size 432x288 with 1 Axes>"
      ]
     },
     "metadata": {},
     "output_type": "display_data"
    }
   ],
   "source": [
    "# Code here.\n",
    "#prepare the ranges\n",
    "k_values = np.arange(1,11)\n",
    "scores = np.zeros((10,))\n",
    "\n",
    "#iterate over possible k\n",
    "for k in k_values:\n",
    "    kmeans = KMeans(n_clusters=k, random_state=0)\n",
    "    kmeans.fit(X)\n",
    "    scores[k-1] = kmeans.inertia_\n",
    "\n",
    "#plot values\n",
    "sns.pointplot(k_values,scores)\n",
    "plt.show()"
   ]
  },
  {
   "cell_type": "markdown",
   "metadata": {},
   "source": [
    "*Take notes here:*"
   ]
  },
  {
   "cell_type": "markdown",
   "metadata": {},
   "source": [
    "## 4. GMM-clustering\n",
    "\n",
    "Let's try some GMM-clustering now. Before you start, think about how k-means is similar to clustering with GMMs. What's the difference between the two approaches? Do you expect the GMM clustering to work better, or worse, than k-means?"
   ]
  },
  {
   "cell_type": "markdown",
   "metadata": {},
   "source": [
    "*Take notes here:*"
   ]
  },
  {
   "cell_type": "markdown",
   "metadata": {},
   "source": [
    "Now, let's make a Gaussian Mixture Model. Use the <a href=\"http://scikit-learn.org/stable/modules/generated/sklearn.mixture.GaussianMixture.html\">```GaussianMixture()```</a> class. Again, let's start with 3 components (```random_state=1```). Fit the model and predict a cluster for each data point in X (*why are we using the training data here, again?*). Then print the adjusted rand score between y and the predicted clusters. Do you see any improvements?\n",
    "\n",
    "Again, plot the predicted clusters versus true labels."
   ]
  },
  {
   "cell_type": "code",
   "execution_count": 13,
   "metadata": {},
   "outputs": [
    {
     "name": "stdout",
     "output_type": "stream",
     "text": [
      "Adjusted Rand Score with GMMs: -0.011585711232786915\n"
     ]
    }
   ],
   "source": [
    "# Code here\n",
    "gmm = GaussianMixture(n_components=3, random_state=1)\n",
    "gmm.fit(X)\n",
    "clusters=gmm.predict(X)\n",
    "print(\"Adjusted Rand Score with GMMs: {}\".format(adjusted_rand_score(y,clusters)))"
   ]
  },
  {
   "cell_type": "code",
   "execution_count": 14,
   "metadata": {},
   "outputs": [
    {
     "data": {
      "image/png": "[encoded data removed]",
      "text/plain": [
       "<Figure size 432x288 with 1 Axes>"
      ]
     },
     "metadata": {},
     "output_type": "display_data"
    }
   ],
   "source": [
    "#plot\n",
    "sns.countplot(clusters, hue=y)\n",
    "plt.show()"
   ]
  },
  {
   "cell_type": "markdown",
   "metadata": {},
   "source": [
    "*Take notes here:*"
   ]
  },
  {
   "cell_type": "markdown",
   "metadata": {},
   "source": [
    "## 5. Big(ger) data! [A]\n",
    "\n",
    "The dataset we've been working with is fairly small - in fact, too small for unsupervised learning. Further, the task (triangles) is pretty constrained, and may not reveal all the variety in language use by different people. A bigger dataset, with more variety, is the <a href=\"https://www.kaggle.com/c/fake-news/data\">Kaggle Fake News challenge dataset</a>. It originally contains ca. 150k news articles. I've pre-processed the first ca. 5k articles for you, in much the same way as our triangles data. The labels are \"0 = reliable\" and \"1 = unreliable\". \n",
    "\n",
    "Load the dataframe from ```../data/fakenews.csv``` into a new variable called ```newsdata```. Examine the shape and head of the dataframe to see what it looks like. How many observations are there? How many features?"
   ]
  },
  {
   "cell_type": "code",
   "execution_count": 15,
   "metadata": {
    "scrolled": true
   },
   "outputs": [
    {
     "data": {
      "text/plain": [
       "(5000, 4936)"
      ]
     },
     "execution_count": 15,
     "metadata": {},
     "output_type": "execute_result"
    }
   ],
   "source": [
    "#Code here.\n",
    "data_path = os.path.join(os.getcwd(), '../data', 'fakenews.csv')\n",
    "newsdata = pd.read_csv(data_path,index_col=0)\n",
    "newsdata.shape"
   ]
  },
  {
   "cell_type": "code",
   "execution_count": 16,
   "metadata": {},
   "outputs": [
    {
     "data": {
      "text/html": [
       "<div>\n",
       "<style scoped>\n",
       "    .dataframe tbody tr th:only-of-type {\n",
       "        vertical-align: middle;\n",
       "    }\n",
       "\n",
       "    .dataframe tbody tr th {\n",
       "        vertical-align: top;\n",
       "    }\n",
       "\n",
       "    .dataframe thead th {\n",
       "        text-align: right;\n",
       "    }\n",
       "</style>\n",
       "<table border=\"1\" class=\"dataframe\">\n",
       "  <thead>\n",
       "    <tr style=\"text-align: right;\">\n",
       "      <th></th>\n",
       "      <th>chief</th>\n",
       "      <th>mounting</th>\n",
       "      <th>may</th>\n",
       "      <th>clean</th>\n",
       "      <th>his</th>\n",
       "      <th>likely</th>\n",
       "      <th>lost</th>\n",
       "      <th>model</th>\n",
       "      <th>range</th>\n",
       "      <th>limits</th>\n",
       "      <th>...</th>\n",
       "      <th>putins</th>\n",
       "      <th>successor</th>\n",
       "      <th>sponsored</th>\n",
       "      <th>painted</th>\n",
       "      <th>experiment</th>\n",
       "      <th>confront</th>\n",
       "      <th>coal</th>\n",
       "      <th>pause</th>\n",
       "      <th>requested</th>\n",
       "      <th>recipe</th>\n",
       "    </tr>\n",
       "  </thead>\n",
       "  <tbody>\n",
       "    <tr>\n",
       "      <th>0</th>\n",
       "      <td>0.0</td>\n",
       "      <td>0.0</td>\n",
       "      <td>4.0</td>\n",
       "      <td>0.0</td>\n",
       "      <td>6.0</td>\n",
       "      <td>1.0</td>\n",
       "      <td>0.0</td>\n",
       "      <td>0.0</td>\n",
       "      <td>0.0</td>\n",
       "      <td>0.0</td>\n",
       "      <td>...</td>\n",
       "      <td>0.0</td>\n",
       "      <td>0.0</td>\n",
       "      <td>0.0</td>\n",
       "      <td>0.0</td>\n",
       "      <td>0.0</td>\n",
       "      <td>0.0</td>\n",
       "      <td>0.0</td>\n",
       "      <td>0.0</td>\n",
       "      <td>0.0</td>\n",
       "      <td>0.0</td>\n",
       "    </tr>\n",
       "    <tr>\n",
       "      <th>1</th>\n",
       "      <td>0.0</td>\n",
       "      <td>0.0</td>\n",
       "      <td>1.0</td>\n",
       "      <td>0.0</td>\n",
       "      <td>0.0</td>\n",
       "      <td>0.0</td>\n",
       "      <td>0.0</td>\n",
       "      <td>0.0</td>\n",
       "      <td>0.0</td>\n",
       "      <td>0.0</td>\n",
       "      <td>...</td>\n",
       "      <td>0.0</td>\n",
       "      <td>0.0</td>\n",
       "      <td>0.0</td>\n",
       "      <td>0.0</td>\n",
       "      <td>0.0</td>\n",
       "      <td>0.0</td>\n",
       "      <td>0.0</td>\n",
       "      <td>0.0</td>\n",
       "      <td>0.0</td>\n",
       "      <td>0.0</td>\n",
       "    </tr>\n",
       "    <tr>\n",
       "      <th>2</th>\n",
       "      <td>0.0</td>\n",
       "      <td>0.0</td>\n",
       "      <td>0.0</td>\n",
       "      <td>0.0</td>\n",
       "      <td>3.0</td>\n",
       "      <td>0.0</td>\n",
       "      <td>0.0</td>\n",
       "      <td>0.0</td>\n",
       "      <td>0.0</td>\n",
       "      <td>0.0</td>\n",
       "      <td>...</td>\n",
       "      <td>0.0</td>\n",
       "      <td>0.0</td>\n",
       "      <td>0.0</td>\n",
       "      <td>0.0</td>\n",
       "      <td>0.0</td>\n",
       "      <td>0.0</td>\n",
       "      <td>0.0</td>\n",
       "      <td>0.0</td>\n",
       "      <td>0.0</td>\n",
       "      <td>0.0</td>\n",
       "    </tr>\n",
       "    <tr>\n",
       "      <th>3</th>\n",
       "      <td>0.0</td>\n",
       "      <td>0.0</td>\n",
       "      <td>0.0</td>\n",
       "      <td>0.0</td>\n",
       "      <td>0.0</td>\n",
       "      <td>0.0</td>\n",
       "      <td>0.0</td>\n",
       "      <td>0.0</td>\n",
       "      <td>0.0</td>\n",
       "      <td>0.0</td>\n",
       "      <td>...</td>\n",
       "      <td>0.0</td>\n",
       "      <td>0.0</td>\n",
       "      <td>0.0</td>\n",
       "      <td>0.0</td>\n",
       "      <td>0.0</td>\n",
       "      <td>0.0</td>\n",
       "      <td>0.0</td>\n",
       "      <td>0.0</td>\n",
       "      <td>0.0</td>\n",
       "      <td>0.0</td>\n",
       "    </tr>\n",
       "    <tr>\n",
       "      <th>4</th>\n",
       "      <td>0.0</td>\n",
       "      <td>0.0</td>\n",
       "      <td>0.0</td>\n",
       "      <td>0.0</td>\n",
       "      <td>3.0</td>\n",
       "      <td>1.0</td>\n",
       "      <td>0.0</td>\n",
       "      <td>0.0</td>\n",
       "      <td>0.0</td>\n",
       "      <td>0.0</td>\n",
       "      <td>...</td>\n",
       "      <td>0.0</td>\n",
       "      <td>0.0</td>\n",
       "      <td>0.0</td>\n",
       "      <td>0.0</td>\n",
       "      <td>0.0</td>\n",
       "      <td>0.0</td>\n",
       "      <td>0.0</td>\n",
       "      <td>0.0</td>\n",
       "      <td>0.0</td>\n",
       "      <td>0.0</td>\n",
       "    </tr>\n",
       "  </tbody>\n",
       "</table>\n",
       "<p>5 rows × 4936 columns</p>\n",
       "</div>"
      ],
      "text/plain": [
       "   chief  mounting  may  clean  his  likely  lost  model  range  limits  \\\n",
       "0    0.0       0.0  4.0    0.0  6.0     1.0   0.0    0.0    0.0     0.0   \n",
       "1    0.0       0.0  1.0    0.0  0.0     0.0   0.0    0.0    0.0     0.0   \n",
       "2    0.0       0.0  0.0    0.0  3.0     0.0   0.0    0.0    0.0     0.0   \n",
       "3    0.0       0.0  0.0    0.0  0.0     0.0   0.0    0.0    0.0     0.0   \n",
       "4    0.0       0.0  0.0    0.0  3.0     1.0   0.0    0.0    0.0     0.0   \n",
       "\n",
       "    ...    putins  successor  sponsored  painted  experiment  confront  coal  \\\n",
       "0   ...       0.0        0.0        0.0      0.0         0.0       0.0   0.0   \n",
       "1   ...       0.0        0.0        0.0      0.0         0.0       0.0   0.0   \n",
       "2   ...       0.0        0.0        0.0      0.0         0.0       0.0   0.0   \n",
       "3   ...       0.0        0.0        0.0      0.0         0.0       0.0   0.0   \n",
       "4   ...       0.0        0.0        0.0      0.0         0.0       0.0   0.0   \n",
       "\n",
       "   pause  requested  recipe  \n",
       "0    0.0        0.0     0.0  \n",
       "1    0.0        0.0     0.0  \n",
       "2    0.0        0.0     0.0  \n",
       "3    0.0        0.0     0.0  \n",
       "4    0.0        0.0     0.0  \n",
       "\n",
       "[5 rows x 4936 columns]"
      ]
     },
     "execution_count": 16,
     "metadata": {},
     "output_type": "execute_result"
    }
   ],
   "source": [
    "newsdata.head()"
   ]
  },
  {
   "cell_type": "markdown",
   "metadata": {},
   "source": [
    "Now use the clustering techniques you have learned about to detect groups of articles in this dataset. Choose either k-means or GMMs to cluster the data. What number of clusters/mixtures do you choose? Do clusters and labels line up well? How many subgroups of articles do you find, using a scree test? Use plots and evaluation metrics and reflect on your findings."
   ]
  },
  {
   "cell_type": "code",
   "execution_count": 17,
   "metadata": {},
   "outputs": [
    {
     "name": "stdout",
     "output_type": "stream",
     "text": [
      "(5000, 4935) (5000,)\n"
     ]
    }
   ],
   "source": [
    "#Code here.\n",
    "#remove stopwords\n",
    "#newsdata = remove_stopwords(newsdata)\n",
    "#prepare X and y\n",
    "y = newsdata[\"label\"].values\n",
    "X = newsdata.drop('label',axis=1).values\n",
    "print(X.shape, y.shape)"
   ]
  },
  {
   "cell_type": "code",
   "execution_count": 18,
   "metadata": {},
   "outputs": [
    {
     "name": "stdout",
     "output_type": "stream",
     "text": [
      "Adjusted rand score for fakenews dataset: 0.00021881994657405875\n"
     ]
    },
    {
     "data": {
      "image/png": "[encoded data removed]",
      "text/plain": [
       "<Figure size 432x288 with 1 Axes>"
      ]
     },
     "metadata": {},
     "output_type": "display_data"
    }
   ],
   "source": [
    "#run kmeans\n",
    "kmeans = KMeans(n_clusters=2, random_state=12)\n",
    "kmeans.fit(X)\n",
    "print(\"Adjusted rand score for fakenews dataset: {}\".format(adjusted_rand_score(y,kmeans.labels_)))\n",
    "\n",
    "#plot the relationship\n",
    "sns.countplot(kmeans.labels_, hue=y)\n",
    "plt.show()"
   ]
  },
  {
   "cell_type": "code",
   "execution_count": null,
   "metadata": {},
   "outputs": [],
   "source": [
    "#find the optimal k\n",
    "#prepare the ranges\n",
    "k_values = np.arange(1,11)\n",
    "scores = np.zeros((10,))\n",
    "\n",
    "#iterate over possible k\n",
    "for k in k_values:\n",
    "    kmeans = KMeans(n_clusters=k, random_state=0)\n",
    "    kmeans.fit(X)\n",
    "    scores[k-1] = kmeans.inertia_\n",
    "\n",
    "#plot values\n",
    "sns.pointplot(k_values,scores)\n",
    "plt.show()"
   ]
  },
  {
   "cell_type": "code",
   "execution_count": null,
   "metadata": {},
   "outputs": [],
   "source": [
    "#run kmeans with optimal k\n",
    "best_k=3\n",
    "kmeans = KMeans(n_clusters=best_k, random_state=12)\n",
    "kmeans.fit(X)\n",
    "print(\"Adjusted rand score for fakenews dataset: {}\".format(adjusted_rand_score(y,kmeans.labels_)))\n",
    "\n",
    "#plot the distribution over the classes\n",
    "sns.countplot(kmeans.labels_, hue=y)\n",
    "plt.show()"
   ]
  },
  {
   "cell_type": "markdown",
   "metadata": {},
   "source": [
    "*Take notes here:*\n",
    "- Generally doesn't rly work that well\n",
    "- Maybe words aren't enough as features, and the data is still to small for unsupervised clustering\n",
    "- In the last plot: cluster 2 probably captures some outliers that screw up the grouping before "
   ]
  },
  {
   "cell_type": "markdown",
   "metadata": {},
   "source": [
    "## 6. Clustering word vectors [A]\n",
    "\n",
    "Maybe it is a bit much to ask of our model, to discover groups of patients and controls or news articles all on its own, with no supervision and only a bag of words as features. Let's try clustering something that seems intuitively more \"groupable\": Let's try and discover different classes/categories of words, using our word vectors from lab 3.\n",
    "\n",
    "First, load the word vector dataset from lab 3 (using the ```load_vectors()``` function below on ```../data/word_vectors.vec```). Check the head and dimensionality of the resulting dataframe."
   ]
  },
  {
   "cell_type": "code",
   "execution_count": null,
   "metadata": {
    "collapsed": true
   },
   "outputs": [],
   "source": [
    "def load_vectors(fname):\n",
    "    fin = io.open(fname, 'r', encoding='utf-8', newline='\\n', errors='ignore')\n",
    "    n, d = map(int, fin.readline().split())\n",
    "    data = {}\n",
    "    for line in fin:\n",
    "        tokens = line.rstrip().split(' ')\n",
    "        data[tokens[0]] = tokens[1:]\n",
    "    data = pd.DataFrame.from_dict(data,orient=\"index\")\n",
    "    return data"
   ]
  },
  {
   "cell_type": "code",
   "execution_count": null,
   "metadata": {},
   "outputs": [],
   "source": [
    "#Code here\n",
    "#load the word vectors\n",
    "data_path = os.path.join(os.getcwd(), '../data', 'word_vectors.vec') # just using the first 10k fastText words!\n",
    "worddata = load_vectors(data_path)\n",
    "print(worddata.shape)\n",
    "worddata.head()"
   ]
  },
  {
   "cell_type": "markdown",
   "metadata": {},
   "source": [
    "Now let's do some word clustering.\n",
    "1. Prepare a feature matrix X from the dataframe above\n",
    "2. Define a range of k-values to explore\n",
    "3. Fit KMeans to X, using these k-values. Store the resulting mean squared error for each k. (Use ```random_state=0```)\n",
    "4. Make a scree plot and determine the optimal k\n",
    "5. Fit k-means again with the optimal k"
   ]
  },
  {
   "cell_type": "code",
   "execution_count": null,
   "metadata": {},
   "outputs": [],
   "source": [
    "# Code here.\n",
    "#prepare X\n",
    "X = worddata.values\n",
    "\n",
    "#prepare the ranges\n",
    "k_values = np.arange(5,50,5)\n",
    "scores = np.zeros((len(k_values),))\n",
    "\n",
    "#iterate over possible k\n",
    "for i,k in enumerate(k_values):\n",
    "    kmeans = KMeans(n_clusters=k, random_state=0)\n",
    "    kmeans.fit(X)\n",
    "    scores[i] = kmeans.inertia_\n",
    "\n",
    "#plot values\n",
    "sns.pointplot(k_values,scores)\n",
    "plt.show()"
   ]
  },
  {
   "cell_type": "code",
   "execution_count": null,
   "metadata": {},
   "outputs": [],
   "source": [
    "kmeans = KMeans(n_clusters=20, random_state=0)\n",
    "kmeans.fit(X)"
   ]
  },
  {
   "cell_type": "markdown",
   "metadata": {},
   "source": [
    "Finally, let's explore one of the clusters. Let's just use cluster one - have a look at the words it contains:\n",
    "1. Get the label of each datapoint from your KMeans object (check out the <a href=\"http://scikit-learn.org/stable/modules/generated/sklearn.cluster.KMeans.html\">documentation</a> to see which attribute to use). Add this as a new column to your dataframe.\n",
    "2. Find the words where label==1 and display them. (*Hint: Pick out the matching rows using boolean logic. You can use .index to see the word associated with a particular row in the dataframe.*)\n",
    "\n",
    "Do you see any pattern? (Try a few other clusters as well, and determine whether you think there is any pattern in this clustering.)"
   ]
  },
  {
   "cell_type": "code",
   "execution_count": null,
   "metadata": {},
   "outputs": [],
   "source": [
    "#Code here.\n",
    "worddata['label'] = kmeans.labels_\n",
    "for w in worddata[worddata['label']==12].index:\n",
    "    print(w)"
   ]
  },
  {
   "cell_type": "markdown",
   "metadata": {},
   "source": [
    "*Take notes here.*"
   ]
  },
  {
   "cell_type": "markdown",
   "metadata": {},
   "source": [
    "## 7. Findings\n",
    "\n",
    "Think about your findings. What have they taught you?\n",
    "- What are the advantages of unsupervised methods? \n",
    "- Which approach worked better - k-means or GMM?\n",
    "- What are the challenges with unsupervised learning?\n",
    "- Were the assumptions met?\n",
    "- Have you learned anything about depression/schizophrenia?\n",
    "- Do you think people with depression/schizophrenia can be clustered using only words from triangles descriptions, generally? What do you think we would need to change to make better predictions?\n",
    "- Can unsupervised learning help you discover anything new about your data?"
   ]
  },
  {
   "cell_type": "markdown",
   "metadata": {},
   "source": [
    "*Take some notes here:*"
   ]
  }
 ],
 "metadata": {
  "kernelspec": {
   "display_name": "Python (nlp)",
   "language": "python",
   "name": "nlp_workshop"
  },
  "language_info": {
   "codemirror_mode": {
    "name": "ipython",
    "version": 3
   },
   "file_extension": ".py",
   "mimetype": "text/x-python",
   "name": "python",
   "nbconvert_exporter": "python",
   "pygments_lexer": "ipython3",
   "version": "3.7.0"
  }
 },
 "nbformat": 4,
 "nbformat_minor": 2
}
